{
 "cells": [
  {
   "cell_type": "code",
   "execution_count": 5,
   "metadata": {},
   "outputs": [],
   "source": [
    "import threading\n",
    "\n",
    "import pandas as pd\n",
    "from bs4 import BeautifulSoup\n",
    "import requests\n",
    "\n",
    "import pymongo\n",
    "from pymongo import MongoClient #from이 있을경우 import뒤에있는건 함수 인데 db연동 모듈 추가역할을 합니다\n",
    "\n",
    "# db 연동\n",
    "conn = MongoClient('127.0.0.1')\n",
    "# print(conn) # MongoClient(host=['127.0.0.1:27017'], document_class=dict, tz_aware=False, connect=True)\n",
    "\n",
    "#db.collection.함수()\n",
    "\n",
    "# db 생성\n",
    "db = conn.test1\n",
    "# collection 생성\n",
    "collect = db.collect # collect = conn.test_db.collect 쉽게말하면 이 db와 이 collect를 가지고있는거죠\n"
   ]
  },
  {
   "cell_type": "code",
   "execution_count": 6,
   "metadata": {},
   "outputs": [],
   "source": [
    "serviceKey='F%2FxP1NfaTBhw0giVbsH7HTUMMnbJF6p9LhD9p8mJ4HpucMsVcxUzoTw4RxZDFdnRP3NgWj0IwJke%2FOzfe5VxhA%3D%3D'\n",
    "numOfRows=[25, 22, 15, 23, 9, 10, 17, 86, 14, 16, 30, 23, 24, 20, 25, 5, 4]\n",
    "sidoName=['서울', '부산', '대구', '인천', '광주', '대전', '울산', '경기', '강원', '충북', '충남', '전북', '전남', '경북', '경남', '제주', '세종']"
   ]
  },
  {
   "cell_type": "code",
   "execution_count": 9,
   "metadata": {},
   "outputs": [
    {
     "name": "stderr",
     "output_type": "stream",
     "text": [
      "C:\\ProgramData\\Anaconda3\\lib\\site-packages\\ipykernel_launcher.py:29: DeprecationWarning: insert is deprecated. Use insert_one or insert_many instead.\n"
     ]
    }
   ],
   "source": [
    "\n",
    "def func():\n",
    "    timer=threading.Timer(3600,func)\n",
    "    \n",
    "    for number in range(0,17):\n",
    "        url='http://openapi.airkorea.or.kr/openapi/services/rest/ArpltnInforInqireSvc/getCtprvnMesureSidoLIst?serviceKey='+str(serviceKey)+'&numOfRows='+str(numOfRows[number])+'&pageSize=10&pageNo=1&startPage=1&sidoName='+str(sidoName[number])+'&searchCondition=DAILY'\n",
    "        html=requests.get(url).text\n",
    "        soup = BeautifulSoup(html, 'html.parser')\n",
    "    \n",
    "        citylist=[]\n",
    "        pm25list=[]\n",
    "        timelist=[]\n",
    "\n",
    "        datatime=soup.find_all('datatime')\n",
    "        cityname=soup.find_all('cityname')\n",
    "        pm25vale=soup.find_all('pm25value')\n",
    "\n",
    "        for code in datatime:\n",
    "            timelist.append(code.text)\n",
    "        for code in cityname:\n",
    "            citylist.append(code.text)\n",
    "        for code in pm25vale:\n",
    "            pm25list.append(code.text)\n",
    "    \n",
    "        numb=numOfRows[number]\n",
    "    \n",
    "        for num in range(0,numb):\n",
    "            test={'sidoname':sidoName[number],'cityname':citylist[int(num)], 'pm25vale':pm25list[int(num)],'datatime':timelist[int(num)]}\n",
    "            collect.insert(test)\n",
    "    \n",
    "    timer.start()\n",
    "\n",
    "func()\n"
   ]
  },
  {
   "cell_type": "code",
   "execution_count": 38,
   "metadata": {},
   "outputs": [
    {
     "name": "stdout",
     "output_type": "stream",
     "text": [
      "조건 검색\n",
      "{'_id': ObjectId('5b794f6ef704393210d2c03f'), 'sidoname': '울산', 'cityname': '강남구', 'pm25vale': '11', 'datatime': '2018-08-19 19:00'}\n",
      "{'_id': ObjectId('5b794f6ef704393210d2c040'), 'sidoname': '울산', 'cityname': '강동구', 'pm25vale': '13', 'datatime': '2018-08-19 19:00'}\n",
      "{'_id': ObjectId('5b794f6ef704393210d2c041'), 'sidoname': '울산', 'cityname': '강북구', 'pm25vale': '16', 'datatime': '2018-08-19 19:00'}\n",
      "{'_id': ObjectId('5b794f6ef704393210d2c042'), 'sidoname': '울산', 'cityname': '강서구', 'pm25vale': '25', 'datatime': '2018-08-19 19:00'}\n",
      "{'_id': ObjectId('5b794f6ef704393210d2c043'), 'sidoname': '울산', 'cityname': '관악구', 'pm25vale': '20', 'datatime': '2018-08-19 19:00'}\n",
      "{'_id': ObjectId('5b794f6ef704393210d2c044'), 'sidoname': '울산', 'cityname': '광진구', 'pm25vale': '13', 'datatime': '2018-08-19 19:00'}\n",
      "{'_id': ObjectId('5b794f6ef704393210d2c045'), 'sidoname': '울산', 'cityname': '구로구', 'pm25vale': '20', 'datatime': '2018-08-19 19:00'}\n",
      "{'_id': ObjectId('5b794f6ef704393210d2c046'), 'sidoname': '울산', 'cityname': '금천구', 'pm25vale': '29', 'datatime': '2018-08-19 19:00'}\n",
      "{'_id': ObjectId('5b794f6ef704393210d2c047'), 'sidoname': '울산', 'cityname': '노원구', 'pm25vale': '14', 'datatime': '2018-08-19 19:00'}\n",
      "{'_id': ObjectId('5b794f6ef704393210d2c048'), 'sidoname': '울산', 'cityname': '도봉구', 'pm25vale': '10', 'datatime': '2018-08-19 19:00'}\n",
      "{'_id': ObjectId('5b794f6ef704393210d2c049'), 'sidoname': '울산', 'cityname': '동대문구', 'pm25vale': '17', 'datatime': '2018-08-19 19:00'}\n",
      "{'_id': ObjectId('5b794f6ef704393210d2c04a'), 'sidoname': '울산', 'cityname': '동작구', 'pm25vale': '23', 'datatime': '2018-08-19 19:00'}\n",
      "{'_id': ObjectId('5b794f6ef704393210d2c04b'), 'sidoname': '울산', 'cityname': '마포구', 'pm25vale': '17', 'datatime': '2018-08-19 19:00'}\n",
      "{'_id': ObjectId('5b794f6ef704393210d2c04c'), 'sidoname': '울산', 'cityname': '서대문구', 'pm25vale': '14', 'datatime': '2018-08-19 19:00'}\n",
      "{'_id': ObjectId('5b794f6ef704393210d2c04d'), 'sidoname': '울산', 'cityname': '서초구', 'pm25vale': '20', 'datatime': '2018-08-19 19:00'}\n",
      "{'_id': ObjectId('5b794f6ef704393210d2c04e'), 'sidoname': '울산', 'cityname': '성동구', 'pm25vale': '16', 'datatime': '2018-08-19 19:00'}\n",
      "{'_id': ObjectId('5b794f6ef704393210d2c04f'), 'sidoname': '울산', 'cityname': '성북구', 'pm25vale': '15', 'datatime': '2018-08-19 19:00'}\n"
     ]
    }
   ],
   "source": []
  },
  {
   "cell_type": "code",
   "execution_count": null,
   "metadata": {},
   "outputs": [],
   "source": [
    "\n",
    "    "
   ]
  }
 ],
 "metadata": {
  "kernelspec": {
   "display_name": "Python 3",
   "language": "python",
   "name": "python3"
  },
  "language_info": {
   "codemirror_mode": {
    "name": "ipython",
    "version": 3
   },
   "file_extension": ".py",
   "mimetype": "text/x-python",
   "name": "python",
   "nbconvert_exporter": "python",
   "pygments_lexer": "ipython3",
   "version": "3.6.4"
  }
 },
 "nbformat": 4,
 "nbformat_minor": 2
}
